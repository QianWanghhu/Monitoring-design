{
 "cells": [
  {
   "cell_type": "markdown",
   "id": "norman-tobacco",
   "metadata": {},
   "source": [
    "This script is used to analyze DWC with high-frequency data.----------\n",
    "Creator: Qian Wang -------------\n",
    "Data: 2021/05/10"
   ]
  },
  {
   "cell_type": "code",
   "execution_count": 1,
   "id": "attempted-poker",
   "metadata": {},
   "outputs": [],
   "source": [
    "import numpy as np\n",
    "import pandas as pd\n",
    "import xlrd"
   ]
  },
  {
   "cell_type": "code",
   "execution_count": 2,
   "id": "tracked-question",
   "metadata": {},
   "outputs": [],
   "source": [
    "fpath = '../../output/'\n",
    "fname = 'obs_year_cumulative_ratio_hour.xlsx'"
   ]
  },
  {
   "cell_type": "code",
   "execution_count": 29,
   "id": "african-intervention",
   "metadata": {},
   "outputs": [],
   "source": [
    "# read the files containing the loads and flow at hourly scale\n",
    "fread = pd.read_excel(fpath+fname, sheet_name = 'obs_storm_9',usecols=[0, 1, 2, 3], index_col='Time')"
   ]
  },
  {
   "cell_type": "code",
   "execution_count": 33,
   "id": "streaming-couple",
   "metadata": {},
   "outputs": [],
   "source": [
    "# calculate the base flow threshold and DWC\n",
    "f_day = fread.resample('24H', closed='left').sum()\n",
    "base_flow = f_day['Flow (ML)'].quantile(0.2)\n",
    "dwc = f_day[f_day['Flow (ML)'] <= base_flow]['Loads (kg)'].sum() / f_day[f_day['Flow (ML)'] <= base_flow]['Flow (ML)'].sum() "
   ]
  },
  {
   "cell_type": "code",
   "execution_count": 36,
   "id": "interpreted-collective",
   "metadata": {},
   "outputs": [
    {
     "data": {
      "text/plain": [
       "Flow (ML)            623.000000\n",
       "126001A-NO3(mg/l)    760.931300\n",
       "Loads (kg)           146.348816\n",
       "dtype: float64"
      ]
     },
     "execution_count": 36,
     "metadata": {},
     "output_type": "execute_result"
    }
   ],
   "source": [
    "f_day[f_day['Flow (ML)'] <= base_flow].sum(axis=0)"
   ]
  },
  {
   "cell_type": "code",
   "execution_count": null,
   "id": "physical-hearts",
   "metadata": {},
   "outputs": [],
   "source": []
  }
 ],
 "metadata": {
  "kernelspec": {
   "display_name": "python(oed)",
   "language": "python",
   "name": "oed"
  },
  "language_info": {
   "codemirror_mode": {
    "name": "ipython",
    "version": 3
   },
   "file_extension": ".py",
   "mimetype": "text/x-python",
   "name": "python",
   "nbconvert_exporter": "python",
   "pygments_lexer": "ipython3",
   "version": "3.7.1"
  }
 },
 "nbformat": 4,
 "nbformat_minor": 5
}
