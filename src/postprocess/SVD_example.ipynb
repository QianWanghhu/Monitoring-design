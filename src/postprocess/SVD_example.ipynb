{
 "cells": [
  {
   "cell_type": "code",
   "execution_count": 1,
   "metadata": {},
   "outputs": [],
   "source": [
    "# import packages\n",
    "import numpy as np"
   ]
  },
  {
   "cell_type": "code",
   "execution_count": 2,
   "metadata": {},
   "outputs": [],
   "source": [
    "# Define a function containing two parameters multiplying each other\n",
    "def fun(x, t): \n",
    "    x1, x2, x3, x4 = x[:]\n",
    "    x1, x2, x3, x4 = t*x1, 0.1*t*x2, (t*x3 + 4), 2*t*x4 \n",
    "    return 10 * x1 + 2*x2 + 5 *(x3 * x4) + 5"
   ]
  },
  {
   "cell_type": "code",
   "execution_count": 3,
   "metadata": {},
   "outputs": [],
   "source": [
    "# Generate random x values\n",
    "x = np.random.rand(4, 4)\n",
    "t = np.linspace(0.1, 1, 9)\n",
    "y = np.zeros(shape=(t.shape[0], x.shape[0]))\n",
    "for ti in range(t.shape[0]):\n",
    "    y[ti] = np.array([fun(x_row, t[ti]) for x_row in x])"
   ]
  },
  {
   "cell_type": "code",
   "execution_count": 4,
   "metadata": {},
   "outputs": [],
   "source": [
    "# Add a small step to each parameter\n",
    "dx = 0.01\n",
    "x2 = x + dx\n",
    "y2 = np.zeros(shape=(t.shape[0], x2.shape[0]))\n",
    "for ti in range(t.shape[0]):\n",
    "    y2[ti] = np.array([fun(x_row, t[ti]) for x_row in x2])"
   ]
  },
  {
   "cell_type": "code",
   "execution_count": 5,
   "metadata": {},
   "outputs": [],
   "source": [
    "# calculate the matrix of output sensitivity\n",
    "s = np.ones(shape=(9, 4, 4))\n",
    "for i in range(s.shape[0]):\n",
    "    for k in range(s.shape[1]):\n",
    "        s[i, k] = [x[k, j] / y[i, k] * ((y2[i, k] - y[i, k]) / dx) for j in range(s.shape[2])]"
   ]
  },
  {
   "cell_type": "code",
   "execution_count": 6,
   "metadata": {},
   "outputs": [],
   "source": [
    "# Singular value decomposition\n",
    "U, L, V = np.linalg.svd(s)"
   ]
  },
  {
   "cell_type": "code",
   "execution_count": 7,
   "metadata": {},
   "outputs": [
    {
     "data": {
      "text/plain": [
       "array([[1.41949261, 0.69601916, 0.44653024, 0.10725522],\n",
       "       [2.4041799 , 1.24672007, 0.67744908, 0.18317097],\n",
       "       [3.10298682, 1.65480408, 0.80827077, 0.23448532],\n",
       "       [3.63692763, 1.97054925, 0.8961606 , 0.27181495],\n",
       "       [4.06330416, 2.22303247, 0.96182176, 0.3004598 ],\n",
       "       [4.41444823, 2.4303228 , 1.01447114, 0.32334841],\n",
       "       [4.71045945, 2.60422195, 1.05882163, 0.34222687],\n",
       "       [4.96465862, 2.75275161, 1.09753166, 0.35819938],\n",
       "       [5.18629291, 2.88154787, 1.13221452, 0.37199783]])"
      ]
     },
     "execution_count": 7,
     "metadata": {},
     "output_type": "execute_result"
    }
   ],
   "source": [
    "L"
   ]
  },
  {
   "cell_type": "code",
   "execution_count": null,
   "metadata": {},
   "outputs": [],
   "source": []
  }
 ],
 "metadata": {
  "kernelspec": {
   "display_name": "python(oed)",
   "language": "python",
   "name": "oed"
  },
  "language_info": {
   "codemirror_mode": {
    "name": "ipython",
    "version": 3
   },
   "file_extension": ".py",
   "mimetype": "text/x-python",
   "name": "python",
   "nbconvert_exporter": "python",
   "pygments_lexer": "ipython3",
   "version": "3.7.1"
  }
 },
 "nbformat": 4,
 "nbformat_minor": 4
}
